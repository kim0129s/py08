{
  "nbformat": 4,
  "nbformat_minor": 0,
  "metadata": {
    "colab": {
      "name": "ch5_code03_package_py08.ipynb",
      "provenance": [],
      "collapsed_sections": [],
      "toc_visible": true,
      "include_colab_link": true
    },
    "kernelspec": {
      "name": "python3",
      "display_name": "Python 3"
    }
  },
  "cells": [
    {
      "cell_type": "markdown",
      "metadata": {
        "id": "view-in-github",
        "colab_type": "text"
      },
      "source": [
        "<a href=\"https://colab.research.google.com/github/kim0129s/py08/blob/master/notebook/ch5_code03_package_py08.ipynb\" target=\"_parent\"><img src=\"https://colab.research.google.com/assets/colab-badge.svg\" alt=\"Open In Colab\"/></a>"
      ]
    },
    {
      "cell_type": "markdown",
      "metadata": {
        "id": "8tRbFmvV5SSc",
        "colab_type": "text"
      },
      "source": [
        "## 패키지\n",
        "- game package\n",
        "```\n",
        "./game/__init__.py\n",
        "./game/sound/__init__.py\n",
        "./game/sound/echo.py\n",
        "./game/graphic/__init__.py\n",
        "./game/graphic/render.py\n",
        "```"
      ]
    },
    {
      "cell_type": "markdown",
      "metadata": {
        "id": "APZV3iOx3NX3",
        "colab_type": "text"
      },
      "source": [
        "## 패키지 테스트\n",
        "```\n",
        "# echo.py\n",
        "def echo_test():\n",
        "    print(\"echo\")\n",
        "```\n",
        "\n",
        "```\n",
        "# render.py\n",
        "from ..sound.echo import echo_test\n",
        "def render_test():\n",
        "    print (\"render\")\n",
        "    echo_test()\n",
        "```\n",
        "\n",
        "```\n",
        "from game.graphic.render import render_test\n",
        "render_test()\n",
        "```"
      ]
    },
    {
      "cell_type": "code",
      "metadata": {
        "id": "1sdg6ocS3Dmc",
        "colab_type": "code",
        "outputId": "9a967fa8-31ac-4baf-b0f6-fc12c407d49c",
        "colab": {
          "base_uri": "https://localhost:8080/",
          "height": 35
        }
      },
      "source": [
        "from game.sound.echo import echo_test\n",
        "echo_test()"
      ],
      "execution_count": 0,
      "outputs": [
        {
          "output_type": "stream",
          "text": [
            "echo\n"
          ],
          "name": "stdout"
        }
      ]
    },
    {
      "cell_type": "code",
      "metadata": {
        "id": "tn6-eQf4j_Z2",
        "colab_type": "code",
        "colab": {}
      },
      "source": [
        "from game.graphic.render import render_test\n",
        "render_test()"
      ],
      "execution_count": 0,
      "outputs": []
    },
    {
      "cell_type": "code",
      "metadata": {
        "id": "oup6ndTX5KAd",
        "colab_type": "code",
        "outputId": "56923a87-8133-4851-9528-6eeec4a20bca",
        "colab": {
          "base_uri": "https://localhost:8080/",
          "height": 35
        }
      },
      "source": [
        "from game.graphic.render import render_test\n",
        " \n",
        "render_test()"
      ],
      "execution_count": 0,
      "outputs": [
        {
          "output_type": "stream",
          "text": [
            "render\n"
          ],
          "name": "stdout"
        }
      ]
    },
    {
      "cell_type": "code",
      "metadata": {
        "id": "NbMtql0c5N7h",
        "colab_type": "code",
        "outputId": "36f03282-ae94-4bda-a82a-65205dd701cd",
        "colab": {
          "base_uri": "https://localhost:8080/",
          "height": 52
        }
      },
      "source": [
        "from game.graphic.render import render_test\n",
        " \n",
        "render_test()"
      ],
      "execution_count": 0,
      "outputs": [
        {
          "output_type": "stream",
          "text": [
            "render\n",
            "echo\n"
          ],
          "name": "stdout"
        }
      ]
    }
  ]
}