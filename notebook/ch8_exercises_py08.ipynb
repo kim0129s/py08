{
  "nbformat": 4,
  "nbformat_minor": 0,
  "metadata": {
    "colab": {
      "name": "ch8_exercises_py08.ipynb",
      "provenance": [],
      "collapsed_sections": [],
      "include_colab_link": true
    },
    "kernelspec": {
      "name": "python3",
      "display_name": "Python 3"
    }
  },
  "cells": [
    {
      "cell_type": "markdown",
      "metadata": {
        "id": "view-in-github",
        "colab_type": "text"
      },
      "source": [
        "<a href=\"https://colab.research.google.com/github/kim0129s/py08/blob/master/notebook/ch8_exercises_py08.ipynb\" target=\"_parent\"><img src=\"https://colab.research.google.com/assets/colab-badge.svg\" alt=\"Open In Colab\"/></a>"
      ]
    },
    {
      "cell_type": "markdown",
      "metadata": {
        "id": "ovY5jkD5dpxE",
        "colab_type": "text"
      },
      "source": [
        "# ch8_exercises_py08.ipynb"
      ]
    },
    {
      "cell_type": "markdown",
      "metadata": {
        "id": "SZw6UnxQWYBe",
        "colab_type": "text"
      },
      "source": [
        "Q1. 문자열 바꾸기\n",
        "> 다음과 같은 문자열이 있다.\n",
        "\n",
        "```\n",
        "a:b:c:d\n",
        "```\n",
        "\n",
        "> 문자열의 split와 join 함수를 사용하여 위 문자열을 다음과 같이 고치시오.\n",
        "\n",
        "```\n",
        "a#b#c#d\n",
        "```\n"
      ]
    },
    {
      "cell_type": "code",
      "metadata": {
        "id": "rUNNaqJPdg7B",
        "colab_type": "code",
        "colab": {
          "base_uri": "https://localhost:8080/",
          "height": 53
        },
        "outputId": "99800f7e-3f67-4a69-e99b-645641cded3a"
      },
      "source": [
        "# [Q1] Code-1 \n",
        "a = \"a:b:c:d\"\n",
        "b = a.split(\":\") \n",
        "c = \"#\".join(b)\n",
        "\n",
        "print(b)\n",
        "c "
      ],
      "execution_count": 3,
      "outputs": [
        {
          "output_type": "stream",
          "text": [
            "['a', 'b', 'c', 'd']\n"
          ],
          "name": "stdout"
        },
        {
          "output_type": "execute_result",
          "data": {
            "text/plain": [
              "'a#b#c#d'"
            ]
          },
          "metadata": {
            "tags": []
          },
          "execution_count": 3
        }
      ]
    },
    {
      "cell_type": "code",
      "metadata": {
        "colab_type": "code",
        "id": "x0OIIHRmDwtd",
        "colab": {
          "base_uri": "https://localhost:8080/",
          "height": 53
        },
        "outputId": "091800bc-809b-404b-b186-33348b3ed7ba"
      },
      "source": [
        "# [Q1] Code-2\n",
        "a = 'a:b:c:d'\n",
        "colon= ':'\n",
        "st_a = a.split(colon)\n",
        "sharp = '#'\n",
        "\n",
        "print(st_a)\n",
        "sharp.join(st_a)"
      ],
      "execution_count": 4,
      "outputs": [
        {
          "output_type": "stream",
          "text": [
            "['a', 'b', 'c', 'd']\n"
          ],
          "name": "stdout"
        },
        {
          "output_type": "execute_result",
          "data": {
            "text/plain": [
              "'a#b#c#d'"
            ]
          },
          "metadata": {
            "tags": []
          },
          "execution_count": 4
        }
      ]
    },
    {
      "cell_type": "markdown",
      "metadata": {
        "colab_type": "text",
        "id": "re2-XrUYXF1m"
      },
      "source": [
        "## Q2. 딕셔너리 값 추출하기\n",
        "> 다음은 딕셔너리의 a에서 'C'라는 key에 해당하는 value를 출력하는 프로그램이다.\n",
        "```\n",
        ">>> a = {'A':90, 'B':80}\n",
        ">>> a['C']\n",
        "Traceback (most recent call last):\n",
        "  File \"<stdin>\", line 1, in <module>\n",
        "KeyError: 'C'\n",
        "```\n",
        ">> a 딕셔너리에는 'C'라는 key가 없으므로 위와 같은 오류가 발생한다.  \n",
        ">>'C'에 해당하는 key 값이 없을 경우 오류 대신 70을 얻을 수 있도록 수정하시오."
      ]
    },
    {
      "cell_type": "code",
      "metadata": {
        "colab_type": "code",
        "id": "5MBLUZ5WXF1q",
        "colab": {
          "base_uri": "https://localhost:8080/",
          "height": 55
        },
        "outputId": "c57ddab3-4b2b-4fc6-a67f-6e7dc93bb0be"
      },
      "source": [
        "# [Q2] Code-1\n",
        "a = {'A':90, 'B':80}\n",
        "a['C'] = '70' \n",
        "print(a) \n",
        "a['C']\n"
      ],
      "execution_count": null,
      "outputs": [
        {
          "output_type": "stream",
          "text": [
            "{'A': 90, 'B': 80, 'C': '70'}\n"
          ],
          "name": "stdout"
        },
        {
          "output_type": "execute_result",
          "data": {
            "text/plain": [
              "'70'"
            ]
          },
          "metadata": {
            "tags": []
          },
          "execution_count": 25
        }
      ]
    },
    {
      "cell_type": "code",
      "metadata": {
        "colab_type": "code",
        "id": "viVk7IDSEQZX",
        "colab": {
          "base_uri": "https://localhost:8080/",
          "height": 36
        },
        "outputId": "08a68936-9010-4fa3-a904-b2fdb321911d"
      },
      "source": [
        "# [Q2] Code-2\n",
        "a = {'A':90, 'B':80}\n",
        "a.get('C', 70)  \n"
      ],
      "execution_count": null,
      "outputs": [
        {
          "output_type": "execute_result",
          "data": {
            "text/plain": [
              "70"
            ]
          },
          "metadata": {
            "tags": []
          },
          "execution_count": 26
        }
      ]
    },
    {
      "cell_type": "markdown",
      "metadata": {
        "colab_type": "text",
        "id": "UZy8lu_BXGnT"
      },
      "source": [
        "## Q3. 리스트의 더하기와 extend 함수\n",
        "> 다음과 같은 리스트 a가 있다.\n",
        "```\n",
        "a = [1, 2, 3]\n",
        "```\n",
        "> 리스트 a에 [4, 5]를 + 기호를 사용하여 더한 결과는 다음과 같다.\n",
        "```\n",
        ">>> a = [1, 2, 3]\n",
        ">>> a = a + [4,5]\n",
        ">>> a\n",
        "[1, 2, 3, 4, 5]\n",
        "```\n",
        "> 리스트 a에 [4,5]를 extend를 사용하여 더한 결과는 다음과 같다.\n",
        "```\n",
        ">>> a = [1, 2, 3]\n",
        ">>> a.extend([4, 5])\n",
        ">>> a\n",
        "[1, 2, 3, 4, 5]\n",
        "```\n",
        "\n",
        "> ### + 기호를 사용하여 더한 것과 extend한 것의 차이점이 있을까? 있다면 그 차이점을 설명하시오."
      ]
    },
    {
      "cell_type": "markdown",
      "metadata": {
        "id": "56kJBTtD7C5K",
        "colab_type": "text"
      },
      "source": [
        "#### [Q3] Explain (코드와 주석으로 설명하시오)\n"
      ]
    },
    {
      "cell_type": "markdown",
      "metadata": {
        "id": "Xin9VCub7J0v",
        "colab_type": "text"
      },
      "source": [
        "### Code-1\n",
        "- 리스트 a에 + 기호를 사용하는 경우"
      ]
    },
    {
      "cell_type": "code",
      "metadata": {
        "id": "mlzN88NR6nwt",
        "colab_type": "code",
        "colab": {
          "base_uri": "https://localhost:8080/",
          "height": 36
        },
        "outputId": "29deefc3-2018-45de-d631-7bfbfaac057f"
      },
      "source": [
        "# Code-1\n",
        "a = [1, 2, 3]\n",
        "id(a)"
      ],
      "execution_count": null,
      "outputs": [
        {
          "output_type": "execute_result",
          "data": {
            "text/plain": [
              "140599382363272"
            ]
          },
          "metadata": {
            "tags": []
          },
          "execution_count": 27
        }
      ]
    },
    {
      "cell_type": "code",
      "metadata": {
        "id": "v-zWHYia7c0J",
        "colab_type": "code",
        "colab": {
          "base_uri": "https://localhost:8080/",
          "height": 36
        },
        "outputId": "5e1d0a64-949e-4caa-99cb-8ac18bfbec51"
      },
      "source": [
        "a = a + [4,5]\n",
        "a"
      ],
      "execution_count": null,
      "outputs": [
        {
          "output_type": "execute_result",
          "data": {
            "text/plain": [
              "[1, 2, 3, 4, 5]"
            ]
          },
          "metadata": {
            "tags": []
          },
          "execution_count": 28
        }
      ]
    },
    {
      "cell_type": "code",
      "metadata": {
        "id": "RJFEJa3E7i2r",
        "colab_type": "code",
        "colab": {
          "base_uri": "https://localhost:8080/",
          "height": 36
        },
        "outputId": "df1f2d0b-fc28-4fd8-c172-a5cff7f10dd1"
      },
      "source": [
        "id(a)"
      ],
      "execution_count": null,
      "outputs": [
        {
          "output_type": "execute_result",
          "data": {
            "text/plain": [
              "140599381863624"
            ]
          },
          "metadata": {
            "tags": []
          },
          "execution_count": 29
        }
      ]
    },
    {
      "cell_type": "markdown",
      "metadata": {
        "id": "6EVwGM9-79yc",
        "colab_type": "text"
      },
      "source": [
        "### Code-1 설명\n",
        "> ```\n",
        "a = [1, 2, 3]\n",
        "id(a)\n",
        "=> 140599382363272\n",
        "``` \n",
        "> - id 함수는 입력 받은 리스트 주소 값을 돌려준다. \n",
        "- 현재 리스트 a는 주소 140599382363272에 저장되어 있다.\n",
        "\n",
        "> ```\n",
        "a = a + [4,5]\n",
        "a\n",
        "=> [1, 2, 3, 4, 5]\n",
        "```\n",
        "> - 리스트 a에 + 기호를 사용하여 리스트 값을 추가한다. \n",
        "\n",
        ">```\n",
        "id(a)\n",
        "=> 140599381863624\n",
        "```\n",
        "> - 결과: 리스트 값을 추가하기 전과 다른 주소 값을 돌려준다. 주소 값이 다르므로 리스트 a는 값이 변하는 것이 아니라 새로운 리스트가 반환된다는 것임을 알 수 있다.\n",
        "\n",
        "\n",
        "\n",
        "\n",
        "\n"
      ]
    },
    {
      "cell_type": "markdown",
      "metadata": {
        "id": "i5Wq_aQH6Su3",
        "colab_type": "text"
      },
      "source": [
        "### Code-2\n",
        "- 리스트 a에 extend 함수를 사용한 경우"
      ]
    },
    {
      "cell_type": "code",
      "metadata": {
        "colab_type": "code",
        "id": "H9T_sXHzXGnW",
        "colab": {
          "base_uri": "https://localhost:8080/",
          "height": 36
        },
        "outputId": "f9c2adaa-93a0-499b-83e6-363b5b6a0c57"
      },
      "source": [
        "# Code-2\n",
        "a = [1,2,3]\n",
        "id(a)"
      ],
      "execution_count": null,
      "outputs": [
        {
          "output_type": "execute_result",
          "data": {
            "text/plain": [
              "139690869183048"
            ]
          },
          "metadata": {
            "tags": []
          },
          "execution_count": 98
        }
      ]
    },
    {
      "cell_type": "code",
      "metadata": {
        "id": "soov50tH-C0V",
        "colab_type": "code",
        "colab": {
          "base_uri": "https://localhost:8080/",
          "height": 36
        },
        "outputId": "d331f8de-19b7-4ab4-8490-d78f9af3d441"
      },
      "source": [
        "a.extend([4,5])\n",
        "a"
      ],
      "execution_count": null,
      "outputs": [
        {
          "output_type": "execute_result",
          "data": {
            "text/plain": [
              "[1, 2, 3, 4, 5]"
            ]
          },
          "metadata": {
            "tags": []
          },
          "execution_count": 96
        }
      ]
    },
    {
      "cell_type": "code",
      "metadata": {
        "id": "xxIdExrb-Hq3",
        "colab_type": "code",
        "colab": {
          "base_uri": "https://localhost:8080/",
          "height": 36
        },
        "outputId": "efb175b8-97a0-4706-8143-982bf10d5b8d"
      },
      "source": [
        "id(a)"
      ],
      "execution_count": null,
      "outputs": [
        {
          "output_type": "execute_result",
          "data": {
            "text/plain": [
              "139690869183048"
            ]
          },
          "metadata": {
            "tags": []
          },
          "execution_count": 99
        }
      ]
    },
    {
      "cell_type": "markdown",
      "metadata": {
        "id": "0T-CXty1-Rko",
        "colab_type": "text"
      },
      "source": [
        "### Code-2 설명\n",
        "> ```\n",
        "a = [1, 2, 3]\n",
        "id(a)\n",
        "=> 139690869183048\n",
        "``` \n",
        "> - 현재 리스트 a는 주소 값은 139690869183048이다.\n",
        "\n",
        "> ```\n",
        "a.extend([4,5])\n",
        "a\n",
        "=> [1, 2, 3, 4, 5]\n",
        "```\n",
        "> - 리스트 a에 extend 함수를 사용하여 [4,5]라는 값을 추가한다. \n",
        "\n",
        ">```\n",
        "id(a)\n",
        "=> 139690869183048\n",
        "```\n",
        "> - 결과: '+' 기호를 사용하여 더한 경우와 다르게 주소값이 변하지 않고 그대로 유지되는 것을 알 수 있다."
      ]
    },
    {
      "cell_type": "markdown",
      "metadata": {
        "colab_type": "text",
        "id": "fqypxxqTXHY7"
      },
      "source": [
        "## Q4. 리스트 총합 구하기\n",
        "> 다음은 A학급 학생의 점수를 나타내는 리스트이다. 다음 리스트에서 50점 이상 점수의 총합을 구하시오.\n",
        "```\n",
        "A = [20, 55, 67, 82, 45, 33, 90, 87, 100, 25]\n",
        "```"
      ]
    },
    {
      "cell_type": "code",
      "metadata": {
        "colab_type": "code",
        "id": "oQ5UnmayXHY-",
        "colab": {
          "base_uri": "https://localhost:8080/",
          "height": 36
        },
        "outputId": "ce828731-85f5-4d89-c71f-13eb5e38da89"
      },
      "source": [
        "# [Q4] Code-1\n",
        "A = [20, 55, 67, 82, 45, 33, 90, 87, 100, 25]\n",
        "\n",
        "result = 0\n",
        "for i in A:\n",
        "  if i >= 50:\n",
        "      result += i\n",
        "\n",
        "print(result)\n"
      ],
      "execution_count": null,
      "outputs": [
        {
          "output_type": "stream",
          "text": [
            "481\n"
          ],
          "name": "stdout"
        }
      ]
    },
    {
      "cell_type": "markdown",
      "metadata": {
        "id": "C6ELpEDsnBIY",
        "colab_type": "text"
      },
      "source": [
        "> - pop함수 사용"
      ]
    },
    {
      "cell_type": "code",
      "metadata": {
        "colab_type": "code",
        "id": "pMQ1e6jpFomt",
        "colab": {
          "base_uri": "https://localhost:8080/",
          "height": 36
        },
        "outputId": "26593a1c-f744-48f2-a142-f4d773157da4"
      },
      "source": [
        "# [Q4] Code-2\n",
        "A = [20, 55, 67, 82, 45, 33, 90, 87, 100, 25]\n",
        "\n",
        "result = 0\n",
        "while A:                \n",
        "    i = A.pop()      \n",
        "    if i >= 50:      \n",
        "        result += i\n",
        "\n",
        "print(result)\n"
      ],
      "execution_count": null,
      "outputs": [
        {
          "output_type": "stream",
          "text": [
            "481\n"
          ],
          "name": "stdout"
        }
      ]
    },
    {
      "cell_type": "code",
      "metadata": {
        "id": "tWXP9d3G_lvI",
        "colab_type": "code",
        "colab": {
          "base_uri": "https://localhost:8080/",
          "height": 36
        },
        "outputId": "37d73432-cfe3-4595-b745-cccde6bb7d11"
      },
      "source": [
        "# [Q4] Code-3\n",
        "A = [20, 55, 67, 82, 45, 33, 90, 87, 100, 25]\n",
        "num = -1\n",
        "sum = 0\n",
        "while num < 9:\n",
        "\tnum += 1\n",
        "\tif A[num] < 50: continue\n",
        "\tsum = sum + A[num]\n",
        "print(sum)"
      ],
      "execution_count": null,
      "outputs": [
        {
          "output_type": "stream",
          "text": [
            "481\n"
          ],
          "name": "stdout"
        }
      ]
    },
    {
      "cell_type": "markdown",
      "metadata": {
        "colab_type": "text",
        "id": "NKsvciXZXIL-"
      },
      "source": [
        "## Q5. 피보나치 함수\n",
        "> 첫 번째 항의 값이 0이고 두 번째 항의 값이 1일 때, 이후에 이어지는 항은 이전의 두 항을 더한 값으로 이루어지는 수열을 피보나치 수열이라고 한다.\n",
        "```\n",
        "0, 1, 1, 2, 3, 5, 8, 13, 21, ...\n",
        "```\n",
        "> 입력을 정수 n으로 받았을 때, n 이하까지의 피보나치 수열을 출력하는 함수를 작성해 보자.\n"
      ]
    },
    {
      "cell_type": "code",
      "metadata": {
        "id": "zIE6NSc2EcvP",
        "colab_type": "code",
        "colab": {
          "base_uri": "https://localhost:8080/",
          "height": 204
        },
        "outputId": "ccec2e90-57a3-4c52-bf55-064d7ec479e5"
      },
      "source": [
        "# [Q5] Code-1\n",
        "def fibo(n):\n",
        "    return fibo(n-1) + fibo(n-2) if n>=2 else n \n",
        "    # n이 0이나 1일 때는 값도 0,1이기 때문에 그대로 반환 \n",
        "\n",
        "for n in range(1,11):\n",
        "    print(n, fibo(n))  # n번째 , n번째 피보나피 수 "
      ],
      "execution_count": null,
      "outputs": [
        {
          "output_type": "stream",
          "text": [
            "1 1\n",
            "2 1\n",
            "3 2\n",
            "4 3\n",
            "5 5\n",
            "6 8\n",
            "7 13\n",
            "8 21\n",
            "9 34\n",
            "10 55\n"
          ],
          "name": "stdout"
        }
      ]
    },
    {
      "cell_type": "code",
      "metadata": {
        "id": "GZFFeYWXNk2s",
        "colab_type": "code",
        "colab": {
          "base_uri": "https://localhost:8080/",
          "height": 204
        },
        "outputId": "8d281fa1-e266-4179-9427-84f5069ba26b"
      },
      "source": [
        "# [Q5] Code-2\n",
        "def fibo(n):\n",
        "    if n<2:  # n이 2 미만일 때는 그대로 반환\n",
        "      return n\n",
        "    a,b = 0,1\n",
        "    for i in range(n-1):  # n이 2 이상일 때는 n-1번 만큼 반복문 실행\n",
        "        a,b = b,a+b\n",
        "    return b\n",
        "for n in range(1,11):\n",
        "    print(n,fibo(n))"
      ],
      "execution_count": null,
      "outputs": [
        {
          "output_type": "stream",
          "text": [
            "1 1\n",
            "2 1\n",
            "3 2\n",
            "4 3\n",
            "5 5\n",
            "6 8\n",
            "7 13\n",
            "8 21\n",
            "9 34\n",
            "10 55\n"
          ],
          "name": "stdout"
        }
      ]
    },
    {
      "cell_type": "code",
      "metadata": {
        "colab_type": "code",
        "id": "JH2Rm_TkF_eu",
        "colab": {
          "base_uri": "https://localhost:8080/",
          "height": 223
        },
        "outputId": "22aac407-75a8-497e-b5a4-eab19f06315a"
      },
      "source": [
        "# [Q5] Code-3\n",
        "def fib(n):\n",
        "    if n == 0 : return 0         # n이 0,1 일때는 값도 0,1\n",
        "    if n == 1 : return 1          \n",
        "    return fib(n-2) + fib(n-1)   # n이 2 이상일 때는 그 이전의 두 값을 더하여 반환\n",
        "\n",
        "for i in range(11):\n",
        "    print(fib(i))\n"
      ],
      "execution_count": null,
      "outputs": [
        {
          "output_type": "stream",
          "text": [
            "0\n",
            "1\n",
            "1\n",
            "2\n",
            "3\n",
            "5\n",
            "8\n",
            "13\n",
            "21\n",
            "34\n",
            "55\n"
          ],
          "name": "stdout"
        }
      ]
    },
    {
      "cell_type": "code",
      "metadata": {
        "id": "OV7XFe4vnpeF",
        "colab_type": "code",
        "colab": {
          "base_uri": "https://localhost:8080/",
          "height": 223
        },
        "outputId": "a45af49c-97f9-4321-9bee-05dd42af9525"
      },
      "source": [
        "# [Q5] Code-4\n",
        "def fibo(n):\n",
        "   \n",
        "    if n<1 : return 0\n",
        "    if n==1 or n==2 : return 1\n",
        "   \n",
        "   \n",
        "    return fibo(n-1)+fibo(n-2)\n",
        " \n",
        "N=int(input('수를 입력하세요 : '))\n",
        " \n",
        "for i in range(1,N+1):\n",
        "    print(fibo(i))"
      ],
      "execution_count": null,
      "outputs": [
        {
          "output_type": "stream",
          "text": [
            "수를 입력하세요 : 10\n",
            "1\n",
            "1\n",
            "2\n",
            "3\n",
            "5\n",
            "8\n",
            "13\n",
            "21\n",
            "34\n",
            "55\n"
          ],
          "name": "stdout"
        }
      ]
    },
    {
      "cell_type": "markdown",
      "metadata": {
        "colab_type": "text",
        "id": "-3KHtOOoXJBV"
      },
      "source": [
        "## Q6. 숫자의 총합 구하기\n",
        "> 사용자로부터 다음과 같은 숫자를 입력받아 입력받은 숫자의 총합을 구하는 프로그램을 작성하시오. (단 숫자는 콤마로 구분하여 입력한다.)\n",
        "\n",
        "```\n",
        "65,45,2,3,45,8\n",
        "```\n"
      ]
    },
    {
      "cell_type": "code",
      "metadata": {
        "id": "jO6QluUK7ZB-",
        "colab_type": "code",
        "colab": {
          "base_uri": "https://localhost:8080/",
          "height": 55
        },
        "outputId": "ac2b0608-30f0-4324-dc50-eefa800e54f7"
      },
      "source": [
        "# [Q6] Code-1\n",
        "number_input = input(\"숫자를 입력하세요: \")\n",
        "numbers = number_input.split(\",\")\n",
        "\n",
        "def sum_number(numbers,total=0):\n",
        "    for num in numbers:\n",
        "      total += int(num)\n",
        "    return total\n",
        "\n",
        "print(sum_number(numbers))"
      ],
      "execution_count": null,
      "outputs": [
        {
          "output_type": "stream",
          "text": [
            "숫자를 입력하세요: 65, 45, 2, 3, 45, 8\n",
            "168\n"
          ],
          "name": "stdout"
        }
      ]
    },
    {
      "cell_type": "code",
      "metadata": {
        "colab_type": "code",
        "id": "AjYR0lUaXJBa",
        "colab": {
          "base_uri": "https://localhost:8080/",
          "height": 55
        },
        "outputId": "5245b6c6-9eb6-452d-f4eb-7d60b7642d7b"
      },
      "source": [
        "# [Q6] Code-2\n",
        "number_input = input(\"숫자를 입력하세요: \")\n",
        "numbers = number_input.split(\",\")\n",
        "total = 0\n",
        "for num in numbers:\n",
        "    total += int(num)    # 입력은 문자열이므로 숫자로 변환해야 한다.\n",
        "print(total)\n"
      ],
      "execution_count": null,
      "outputs": [
        {
          "output_type": "stream",
          "text": [
            "숫자를 입력하세요: 65, 45, 2, 3, 45, 8\n",
            "168\n"
          ],
          "name": "stdout"
        }
      ]
    },
    {
      "cell_type": "markdown",
      "metadata": {
        "id": "j6CY_yMGpol9",
        "colab_type": "text"
      },
      "source": [
        "> - map함수 사용"
      ]
    },
    {
      "cell_type": "code",
      "metadata": {
        "id": "r88_Xj6IBYiD",
        "colab_type": "code",
        "colab": {
          "base_uri": "https://localhost:8080/",
          "height": 55
        },
        "outputId": "d9601dc1-b78f-40cf-f726-66c9210b70f5"
      },
      "source": [
        "# [Q6] Code-3\n",
        "number_list=[]\n",
        "number_list = map(int, input('숫자를 입력하세요: ').split(\",\"))\n",
        "total = 0\n",
        "for num in number_list:\n",
        "    total += int(num)\n",
        "print(total)"
      ],
      "execution_count": null,
      "outputs": [
        {
          "output_type": "stream",
          "text": [
            "숫자를 입력하세요: 65,45,2,3,45,8\n",
            "168\n"
          ],
          "name": "stdout"
        }
      ]
    },
    {
      "cell_type": "markdown",
      "metadata": {
        "colab_type": "text",
        "id": "CiMJjZQ_GdyV"
      },
      "source": [
        "## Q7. 한 줄 구구단\n",
        "> 사용자로부터 2~9의 숫자 중 하나를 입력받아 해당 숫자의 구구단을 한 줄로 출력하는 프로그램을 작성하시오.\n",
        "\n",
        "> 실행 예)\n",
        "```\n",
        "구구단을 출력할 숫자를 입력하세요(2~9): 2\n",
        "2 4 6 8 10 12 14 16 18\n",
        "```\n"
      ]
    },
    {
      "cell_type": "code",
      "metadata": {
        "colab_type": "code",
        "id": "_8TQZNIwGdyo",
        "colab": {
          "base_uri": "https://localhost:8080/",
          "height": 55
        },
        "outputId": "6726748e-8c34-4c77-f145-9719548c6b8f"
      },
      "source": [
        "# [Q7] Code-1\n",
        "gugudan_input = input(\"구구단을 출력할 숫자를 입력하세요(2~9):\")\n",
        "dan = int(gugudan_input) \n",
        "\n",
        "def gugudan(dan):\n",
        "    for n in range(1,10):\n",
        "        print(f'{dan * n}',end=' ')\n",
        "\n",
        "gugudan(dan)\n"
      ],
      "execution_count": null,
      "outputs": [
        {
          "output_type": "stream",
          "text": [
            "구구단을 출력할 숫자를 입력하세요(2~9):2\n",
            "2 4 6 8 10 12 14 16 18 "
          ],
          "name": "stdout"
        }
      ]
    },
    {
      "cell_type": "code",
      "metadata": {
        "colab_type": "code",
        "id": "HRX-wvenGdyx",
        "colab": {
          "base_uri": "https://localhost:8080/",
          "height": 55
        },
        "outputId": "1a3ec432-af94-496d-f538-b6f6323f05c5"
      },
      "source": [
        "# [Q7] Code-2     \n",
        "gugudan_input = input(\"구구단을 출력할 숫자를 입력하세요(2~9):\")\n",
        "dan = int(gugudan_input) \n",
        "\n",
        "for i in range(1, 10):\n",
        "    print(i*dan, end= ' ')  \n"
      ],
      "execution_count": null,
      "outputs": [
        {
          "output_type": "stream",
          "text": [
            "구구단을 출력할 숫자를 입력하세요(2~9):2\n",
            "2 4 6 8 10 12 14 16 18 "
          ],
          "name": "stdout"
        }
      ]
    },
    {
      "cell_type": "code",
      "metadata": {
        "id": "8oYVrg1aPiZm",
        "colab_type": "code",
        "colab": {
          "base_uri": "https://localhost:8080/",
          "height": 55
        },
        "outputId": "0214cf63-1f12-4af8-f9bd-3f3e535a7f98"
      },
      "source": [
        "# [Q7] Code-3\n",
        "gugudan_input = input(\"구구단을 출력할 숫자를 입력하세요(2~9):\")\n",
        "\n",
        "list1 = [ n*int(dan) for n in range(1,10) for dan in gugudan_input ]\n",
        "print(list1)\n"
      ],
      "execution_count": null,
      "outputs": [
        {
          "output_type": "stream",
          "text": [
            "구구단을 출력할 숫자를 입력하세요(2~9):2\n",
            "[2, 4, 6, 8, 10, 12, 14, 16, 18]\n"
          ],
          "name": "stdout"
        }
      ]
    },
    {
      "cell_type": "code",
      "metadata": {
        "id": "8LxbCeh7pzuu",
        "colab_type": "code",
        "colab": {
          "base_uri": "https://localhost:8080/",
          "height": 55
        },
        "outputId": "34388e6d-b0de-4341-baa8-eb08d8ee54c3"
      },
      "source": [
        "# [Q7] Code-4\n",
        "gugudan = int(input(\"구구단을 출력할 숫자를 입력하세요(2~9): \"))\n",
        "\n",
        "if gugudan<=10 and gugudan>=1:\n",
        "    for n in range(1,10):\n",
        "      print(format(gugudan*n), end=' ')"
      ],
      "execution_count": null,
      "outputs": [
        {
          "output_type": "stream",
          "text": [
            "구구단을 출력할 숫자를 입력하세요(2~9): 2\n",
            "2 4 6 8 10 12 14 16 18 "
          ],
          "name": "stdout"
        }
      ]
    },
    {
      "cell_type": "markdown",
      "metadata": {
        "colab_type": "text",
        "id": "YrS3b88QbmKo"
      },
      "source": [
        "## Q8. 역순 저장\n",
        "> 다음과 같은 내용의 파일 abc.txt가 있다.\n",
        "```\n",
        "AAA\n",
        "BBB\n",
        "CCC\n",
        "DDD\n",
        "EEE\n",
        "```\n",
        "> 이 파일의 내용을 다음과 같이 역순으로 바꾸어 저장하시오.\n",
        "```\n",
        "EEE\n",
        "DDD\n",
        "CCC\n",
        "BBB\n",
        "AAA\n",
        "```"
      ]
    },
    {
      "cell_type": "code",
      "metadata": {
        "id": "MTaef85jKkTK",
        "colab_type": "code",
        "colab": {}
      },
      "source": [
        "# [Q8] Code-1\n",
        "f = open('abc.txt','r')\n",
        "lines = f.readlines()\n",
        "f.close()"
      ],
      "execution_count": null,
      "outputs": []
    },
    {
      "cell_type": "code",
      "metadata": {
        "id": "VwJmGxpRLPYc",
        "colab_type": "code",
        "colab": {
          "base_uri": "https://localhost:8080/",
          "height": 111
        },
        "outputId": "aa8507a5-2bdd-43c0-e628-17edad9395cb"
      },
      "source": [
        "for lines in reversed(open(\"abc.txt\").readlines()):\n",
        "    print(lines.rstrip())"
      ],
      "execution_count": null,
      "outputs": [
        {
          "output_type": "stream",
          "text": [
            "EEE\n",
            "DDD\n",
            "CCC\n",
            "BBB\n",
            "AAA\n"
          ],
          "name": "stdout"
        }
      ]
    },
    {
      "cell_type": "code",
      "metadata": {
        "id": "hoZ2EAX0UIn8",
        "colab_type": "code",
        "colab": {}
      },
      "source": [
        "# [Q8] Code-2\n",
        "f = open('abc.txt', 'r')\n",
        "lines = f.readlines()    # 모든 라인을 읽음\n",
        "f.close()\n",
        "\n",
        "lines.reverse()          # 읽은 라인을 역순으로 정렬\n",
        "\n",
        "f = open('abc.txt', 'w')\n",
        "for line in lines:\n",
        "    line = line.strip()  # 포함되어 있는 줄 바꿈 문자 제거\n",
        "    f.write(line)\n",
        "    f.write('\\n')        # 줄 바꿈 문자 삽입\n",
        "f.close()"
      ],
      "execution_count": null,
      "outputs": []
    },
    {
      "cell_type": "code",
      "metadata": {
        "id": "qCJTcOO3SRt2",
        "colab_type": "code",
        "colab": {
          "base_uri": "https://localhost:8080/",
          "height": 129
        },
        "outputId": "bce76370-c195-4226-aed6-e9bd1a1d4632"
      },
      "source": [
        "f = open(\"/content/abc.txt\",'r')\n",
        "line=f.read()\n",
        "print(line)\n",
        "f.close()"
      ],
      "execution_count": null,
      "outputs": [
        {
          "output_type": "stream",
          "text": [
            "EEE\n",
            "DDD\n",
            "CCC\n",
            "BBB\n",
            "AAA\n",
            "\n"
          ],
          "name": "stdout"
        }
      ]
    },
    {
      "cell_type": "markdown",
      "metadata": {
        "colab_type": "text",
        "id": "OcSDHHYkK6lZ"
      },
      "source": [
        "## Q9. 평균값 구하기\n",
        "> 다음과 같이 총 10줄로 이루어진 sample.txt 파일이 있다. sample.txt 파일의 숫자 값을 모두 읽어 총합과 평균 값을 구한 후 평균 값을 result.txt 파일에 쓰는 프로그램을 작성하시오.\n",
        "```\n",
        "70\n",
        "60\n",
        "55\n",
        "75\n",
        "95\n",
        "90\n",
        "80\n",
        "80\n",
        "85\n",
        "100\n",
        "```\n"
      ]
    },
    {
      "cell_type": "markdown",
      "metadata": {
        "id": "kyJIyiBkh3FK",
        "colab_type": "text"
      },
      "source": [
        "### Code-1"
      ]
    },
    {
      "cell_type": "code",
      "metadata": {
        "colab_type": "code",
        "id": "GmaaVGqrK6le",
        "colab": {
          "base_uri": "https://localhost:8080/",
          "height": 55
        },
        "outputId": "6f2c8832-862d-49fe-a86a-dbfd2b073ecc"
      },
      "source": [
        "# [Q9] Code-1\n",
        "f = open(\"sample.txt\",'r')\n",
        "score = f.readlines()\n",
        "score = list(map(int, score))\n",
        "score_sum=0\n",
        "\n",
        "for i in score:\n",
        "    score_sum = score_sum +  i\n",
        "score_average = score_sum / len(score)\n",
        "\n",
        "print(\"총합 = %d\"%score_sum)\n",
        "print(\"평균 = %.2f\"%score_average)\n"
      ],
      "execution_count": null,
      "outputs": [
        {
          "output_type": "stream",
          "text": [
            "총합 = 790\n",
            "평균 = 79.00\n"
          ],
          "name": "stdout"
        }
      ]
    },
    {
      "cell_type": "markdown",
      "metadata": {
        "id": "bn6KrJPCPdDr",
        "colab_type": "text"
      },
      "source": [
        "> - result.txt를 생성하고 score_average 값 쓰기"
      ]
    },
    {
      "cell_type": "code",
      "metadata": {
        "id": "xkMxKFFFN3o5",
        "colab_type": "code",
        "colab": {}
      },
      "source": [
        "f = open('result.txt','w')\n",
        "f.write(str(score_average))\n",
        "f.close()"
      ],
      "execution_count": null,
      "outputs": []
    },
    {
      "cell_type": "markdown",
      "metadata": {
        "id": "MovV10GJPMYB",
        "colab_type": "text"
      },
      "source": [
        "> - result.txt에 쓴 score_average 값 읽기"
      ]
    },
    {
      "cell_type": "code",
      "metadata": {
        "id": "ty5_EU6aPOJn",
        "colab_type": "code",
        "colab": {
          "base_uri": "https://localhost:8080/",
          "height": 36
        },
        "outputId": "52bc4c69-af11-4977-ab4f-3f31878aae56"
      },
      "source": [
        "f = open(\"result.txt\",'r')\n",
        "line=f.read()\n",
        "print(line)\n",
        "f.close()"
      ],
      "execution_count": null,
      "outputs": [
        {
          "output_type": "stream",
          "text": [
            "79.0\n"
          ],
          "name": "stdout"
        }
      ]
    },
    {
      "cell_type": "markdown",
      "metadata": {
        "id": "sTxc--tHh5Im",
        "colab_type": "text"
      },
      "source": [
        "### Code-2"
      ]
    },
    {
      "cell_type": "code",
      "metadata": {
        "colab_type": "code",
        "id": "kgMy9LVYHfRF",
        "colab": {
          "base_uri": "https://localhost:8080/",
          "height": 55
        },
        "outputId": "c8b382c4-be22-4b2a-99df-fdf8c77818a6"
      },
      "source": [
        "# [Q9] Code-2\n",
        "f = open(\"sample.txt\")\n",
        "lines = f.readlines()\n",
        "f.close()\n",
        "\n",
        "total = 0\n",
        "for line in lines:\n",
        "    score = int(line)\n",
        "    total += score\n",
        "average = total / len(scores)\n",
        "\n",
        "print(total)\n",
        "print(average)\n"
      ],
      "execution_count": null,
      "outputs": [
        {
          "output_type": "stream",
          "text": [
            "790\n",
            "79.0\n"
          ],
          "name": "stdout"
        }
      ]
    },
    {
      "cell_type": "markdown",
      "metadata": {
        "id": "tP4NagqARahd",
        "colab_type": "text"
      },
      "source": [
        "> - result.txt를 생성하고 average 값 쓰고 읽기"
      ]
    },
    {
      "cell_type": "code",
      "metadata": {
        "id": "h4lWVYtbRTJ8",
        "colab_type": "code",
        "colab": {
          "base_uri": "https://localhost:8080/",
          "height": 36
        },
        "outputId": "69eedd7a-957c-4a9a-a0e3-019a7006fa6c"
      },
      "source": [
        "f = open (\"result.txt\",\"w\")\n",
        "f.write(str(average))\n",
        "f.close()\n",
        "\n",
        "f = open(\"result.txt\",\"r\")\n",
        "average = f.read()\n",
        "print(average)\n",
        "f.close()"
      ],
      "execution_count": null,
      "outputs": [
        {
          "output_type": "stream",
          "text": [
            "79.0\n"
          ],
          "name": "stdout"
        }
      ]
    },
    {
      "cell_type": "markdown",
      "metadata": {
        "colab_type": "text",
        "id": "anwB_DjuK60j"
      },
      "source": [
        "## Q10. 사칙연산 계산기\n",
        "> 다음과 같이 동작하는 클래스 Calculator를 작성하시오.\n",
        "```\n",
        ">>> cal1 = Calculator([1,2,3,4,5])\n",
        ">>> cal1.sum() # 합계\n",
        "15\n",
        ">>> cal1.avg() # 평균\n",
        "3.0\n",
        ">>> cal2 = Calculator([6,7,8,9,10])\n",
        ">>> cal2.sum() # 합계\n",
        "40\n",
        ">>> cal2.avg() # 평균\n",
        "8.0\n",
        "```\n"
      ]
    },
    {
      "cell_type": "code",
      "metadata": {
        "id": "G_4gWcKT0SD3",
        "colab_type": "code",
        "colab": {
          "base_uri": "https://localhost:8080/",
          "height": 92
        },
        "outputId": "061ab267-6465-4436-f9e8-9c5a216f0bf6"
      },
      "source": [
        "# [Q10] Code-1\n",
        "class Calculator:\n",
        "    def __init__ (self, numberList): \n",
        "        self.numberList = numberList\n",
        "        \n",
        "    def add(self): \n",
        "        result = 0\n",
        "        for num in self.numberList: \n",
        "            result += num\n",
        "        return result\n",
        "\n",
        "    def avg(self):\n",
        "        total = self.add()\n",
        "        return total / len(self.numberList)\n",
        "\n",
        "cal1 = Calculator([1,2,3,4,5]) \n",
        "print (cal1.add())\n",
        "print (cal1.avg())\n",
        "\n",
        "cal2 = Calculator([6,7,8,9,10]) \n",
        "print (cal2.add())\n",
        "print (cal2.avg())"
      ],
      "execution_count": null,
      "outputs": [
        {
          "output_type": "stream",
          "text": [
            "15\n",
            "3.0\n",
            "40\n",
            "8.0\n"
          ],
          "name": "stdout"
        }
      ]
    },
    {
      "cell_type": "code",
      "metadata": {
        "id": "YRH-vmze5_X0",
        "colab_type": "code",
        "colab": {
          "base_uri": "https://localhost:8080/",
          "height": 92
        },
        "outputId": "1c84366f-9707-44d0-e2cd-f80c1513cdde"
      },
      "source": [
        "# [Q10] Code-2\n",
        "class Calculator:\n",
        "    def __init__(self,value):\n",
        "        self.value = value\n",
        " \n",
        "    def add(self):\n",
        "        result = 0\n",
        "        for num in self.value: \n",
        "            result += num\n",
        "        return result\n",
        "\n",
        "class UpgradeCalculator(Calculator):\n",
        "    def avg(self):\n",
        "        total = self.add()\n",
        "        return total / len(self.value)\n",
        "\n",
        "cal1 = UpgradeCalculator([1,2,3,4,5])\n",
        "print(cal1.add())\n",
        "print(cal1.avg())\n",
        "\n",
        "cal2=UpgradeCalculator([6,7,8,9,10])\n",
        "print(cal2.add())\n",
        "print(cal2.avg())"
      ],
      "execution_count": null,
      "outputs": [
        {
          "output_type": "stream",
          "text": [
            "15\n",
            "3.0\n",
            "40\n",
            "8.0\n"
          ],
          "name": "stdout"
        }
      ]
    },
    {
      "cell_type": "markdown",
      "metadata": {
        "colab_type": "text",
        "id": "8xQf6xJ4K7M_"
      },
      "source": [
        "## Q11. 모듈 사용 방법\n",
        "> ./doit 디렉터리에 mymod.py 파이썬 모듈이 있다고 가정해 보자. 명령 프롬프트 창에서 파이썬 셸을 열어 이 모듈을 import해서 사용할 수 있는 방법을 모두 기술하시오. (즉 다음과 같이 import mymod를 수행할 때 오류가 없어야 한다.)\n",
        "```\n",
        ">>> import mymod\n",
        ">>>\n",
        "```"
      ]
    },
    {
      "cell_type": "code",
      "metadata": {
        "colab_type": "code",
        "id": "4zv7LXPjJiCH",
        "colab": {}
      },
      "source": [
        "!mkdir doit\n",
        "# 실행 후 새로 고침!\n",
        "# mymod.py 를 업로드한다."
      ],
      "execution_count": null,
      "outputs": []
    },
    {
      "cell_type": "code",
      "metadata": {
        "colab_type": "code",
        "id": "JA_3n4g8JiB7",
        "colab": {}
      },
      "source": [
        "!mv mymod.py ./doit\n",
        "# 실행 후 새로 고침!"
      ],
      "execution_count": null,
      "outputs": []
    },
    {
      "cell_type": "markdown",
      "metadata": {
        "id": "RT1J2dOsfpTR",
        "colab_type": "text"
      },
      "source": [
        "#### 모듈 사용 방법"
      ]
    },
    {
      "cell_type": "markdown",
      "metadata": {
        "id": "seYQ8V6xgU1i",
        "colab_type": "text"
      },
      "source": [
        "- sys.path.append()를 사용하여 새 경로를 추가"
      ]
    },
    {
      "cell_type": "code",
      "metadata": {
        "colab_type": "code",
        "id": "UCO7aRh5Msx6",
        "colab": {}
      },
      "source": [
        "# [Q11] Code-1 \n",
        "import sys\n",
        "sys.path.append(\"/content/doit\")\n",
        "import mymod"
      ],
      "execution_count": null,
      "outputs": []
    },
    {
      "cell_type": "markdown",
      "metadata": {
        "id": "_YSmWrPSgYxe",
        "colab_type": "text"
      },
      "source": [
        "- from 모듈 import 변수나 함수"
      ]
    },
    {
      "cell_type": "code",
      "metadata": {
        "id": "-K0B4NGaegyx",
        "colab_type": "code",
        "colab": {}
      },
      "source": [
        "# [Q11] Code-2\n",
        "from doit import mymod"
      ],
      "execution_count": null,
      "outputs": []
    },
    {
      "cell_type": "markdown",
      "metadata": {
        "id": "XO2TyXJ8gd3z",
        "colab_type": "text"
      },
      "source": [
        "- 현재 디렉터리를 doit으로 변경"
      ]
    },
    {
      "cell_type": "code",
      "metadata": {
        "id": "sjlv-r5ueSrA",
        "colab_type": "code",
        "colab": {}
      },
      "source": [
        "# [Q11] Code-3\n",
        "import os\n",
        "os.chdir(\"/content/doit\")  "
      ],
      "execution_count": null,
      "outputs": []
    },
    {
      "cell_type": "markdown",
      "metadata": {
        "id": "dxe2dnF_giXR",
        "colab_type": "text"
      },
      "source": [
        "- pwd 리눅스 명령어와 같은 결과 => '/content/doit'"
      ]
    },
    {
      "cell_type": "code",
      "metadata": {
        "id": "2YWAnMb1eVyP",
        "colab_type": "code",
        "colab": {}
      },
      "source": [
        "# [Q11] Code-4\n",
        "os.getcwd()  \n",
        "import mymod"
      ],
      "execution_count": null,
      "outputs": []
    },
    {
      "cell_type": "markdown",
      "metadata": {
        "colab_type": "text",
        "id": "Q6QYCZ9HM3DW"
      },
      "source": [
        "## Q12. 오류와 예외 처리\n",
        "> 다음 코드의 실행 결과를 예측하고 그 이유에 대해 설명하시오.\n",
        "\n",
        "```\n",
        "result = 0\n",
        "\n",
        "try:\n",
        "    [1, 2, 3][3]\n",
        "    \"a\"+1\n",
        "    4 / 0\n",
        "except TypeError:\n",
        "    result += 1\n",
        "except ZeroDivisionError:\n",
        "    result += 2\n",
        "except IndexError:\n",
        "    result += 3\n",
        "finally:\n",
        "    result += 4\n",
        "\n",
        "print(result)\n",
        "```\n"
      ]
    },
    {
      "cell_type": "code",
      "metadata": {
        "id": "hDf0Js4KLOrl",
        "colab_type": "code",
        "colab": {
          "base_uri": "https://localhost:8080/",
          "height": 36
        },
        "outputId": "0c51517b-12b7-4021-fdc8-9fd9bc5cf9dd"
      },
      "source": [
        "# [Q12] Explain (코드와 주석으로 설명하시오)\n",
        "result = 0\n",
        " \n",
        "try:\n",
        "    [1, 2, 3][3]\n",
        "    \"a\"+1\n",
        "    4 / 0\n",
        "except TypeError:\n",
        "    result += 1\n",
        "except ZeroDivisionError:\n",
        "    result += 2\n",
        "except IndexError:\n",
        "    result += 3\n",
        "finally:\n",
        "    result += 4\n",
        " \n",
        "print(result)\n"
      ],
      "execution_count": null,
      "outputs": [
        {
          "output_type": "stream",
          "text": [
            "7\n"
          ],
          "name": "stdout"
        }
      ]
    },
    {
      "cell_type": "markdown",
      "metadata": {
        "id": "lTb39gDAsRdc",
        "colab_type": "text"
      },
      "source": [
        "### [Q12] Explain\n",
        " - result의 초깃값은 0이다.\n",
        ">```\n",
        "result = 0\n",
        "```\n",
        "\n",
        "- try문 안의 [1,2,3][3]이라는 문장 수행 시 IndexError가 발생하여 except IndexError: 구문으로 이동하게 되어 result에 3이 더해져 3이 된다.\n",
        ">```\n",
        "try:\n",
        "    [1, 2, 3][3]\n",
        "    \"a\"+1\n",
        "    4 / 0\n",
        "    --> IndexError 발생\n",
        "``` \n",
        ">```\n",
        "except IndexError:\n",
        "    result += 3\n",
        "```\n",
        "\n",
        "- 최종적으로 finally 구문이 실행되어 result에 4가 더해져 7이 된다.\n",
        ">```\n",
        "finally:\n",
        "    result += 4\n",
        "```\n",
        "\n",
        "- print(result)가 수행되어 result의 최종 값인 7이 출력이 된다.\n",
        ">```\n",
        "print(result)\n",
        ">>>> 7\n",
        "```"
      ]
    },
    {
      "cell_type": "markdown",
      "metadata": {
        "colab_type": "text",
        "id": "x2IYgozSM3gd"
      },
      "source": [
        "## Q13. DashInsert 함수\n",
        "> DashInsert 함수는 숫자로 구성된 문자열을 입력받은 뒤 문자열 안에서 홀수가 연속되면 두 수 사이에 - 를 추가하고, 짝수가 연속되면 * 를 추가하는 기능을 갖고 있다. DashInsert 함수를 완성하시오.\n",
        "```\n",
        "입력 예시: 4546793\n",
        "출력 예시: 454*67-9-3\n",
        "```\n"
      ]
    },
    {
      "cell_type": "code",
      "metadata": {
        "colab_type": "code",
        "id": "FiKNOu9HM3DX",
        "colab": {
          "base_uri": "https://localhost:8080/",
          "height": 36
        },
        "outputId": "bed1358d-9334-4510-d5de-0bf044fa0445"
      },
      "source": [
        "# [Q13] Code-1\n",
        "data = \"4546793\"\n",
        "numbers = list(map(int, data))   # 숫자 문자열을 숫자 리스트로 변경\n",
        "result = []\n",
        "\n",
        "for i, num in enumerate(numbers):\n",
        "    result.append(str(num))\n",
        "    if i < len(numbers)-1:                    # 다음 수가 있다면\n",
        "        is_odd = num % 2 == 1                 # 현재 수가 홀수\n",
        "        is_next_odd = numbers[i+1] % 2 == 1   # 다음 수가 홀수\n",
        "        if is_odd and is_next_odd:            # 연속 홀수\n",
        "            result.append(\"-\")                \n",
        "        elif not is_odd and not is_next_odd:  # 연속 짝수  \n",
        "            result.append(\"*\")\n",
        "\n",
        "print(\"\".join(result))\n"
      ],
      "execution_count": null,
      "outputs": [
        {
          "output_type": "stream",
          "text": [
            "454*67-9-3\n"
          ],
          "name": "stdout"
        }
      ]
    },
    {
      "cell_type": "code",
      "metadata": {
        "colab_type": "code",
        "id": "d_hmy1RZLqBg",
        "colab": {
          "base_uri": "https://localhost:8080/",
          "height": 55
        },
        "outputId": "91061bf0-8bf1-4600-e81d-c94f20538376"
      },
      "source": [
        "# [Q13] Code-2\n",
        "number_list = input(\"숫자를 입력해주세요: \")\n",
        "\n",
        "result = number_list[0]\n",
        "for a,b in zip(number_list[0:], number_list[1:]): \n",
        "    if int(a)%2 == 0 and int(b)%2 == 0:    # 연속 짝수\n",
        "        result += '*' + b\n",
        "    elif int(a)%2 == 1 and int(b)%2 == 1:  # 연속 홀수\n",
        "        result += '-' + b\n",
        "    else:\n",
        "        result += b                        #홀수짝수, 짝수홀수\n",
        "\n",
        "print(result)\n"
      ],
      "execution_count": null,
      "outputs": [
        {
          "output_type": "stream",
          "text": [
            "숫자를 입력해주세요: 4546793\n",
            "454*67-9-3\n"
          ],
          "name": "stdout"
        }
      ]
    },
    {
      "cell_type": "code",
      "metadata": {
        "id": "OfRl2wes4EFn",
        "colab_type": "code",
        "colab": {
          "base_uri": "https://localhost:8080/",
          "height": 55
        },
        "outputId": "6ab8300e-d2f8-477b-bc1d-cec3445c95da"
      },
      "source": [
        "# [Q13] Code-3\n",
        "number_list = list(map(int,' '.join(input(\"숫자를 입력해주세요: \")).split()))\n",
        "result = [str(number_list[0])]\n",
        "for x in range(len(number_list)-1):\n",
        "    if number_list[x]%2==0 and number_list[x+1]%2==0:\n",
        "        result.append('*')\n",
        "    if number_list[x]%2==1 and number_list[x+1]%2==1:\n",
        "        result.append('-')\n",
        "    result.append(str(number_list[x+1]))\n",
        "print(''.join(result))"
      ],
      "execution_count": null,
      "outputs": [
        {
          "output_type": "stream",
          "text": [
            "숫자를 입력해주세요: 4546793\n",
            "454*67-9-3\n"
          ],
          "name": "stdout"
        }
      ]
    },
    {
      "cell_type": "markdown",
      "metadata": {
        "colab_type": "text",
        "id": "HDbz71sNL2Qt"
      },
      "source": [
        "## Q14. 문자열 압축하기\n",
        "> 문자열을 입력받아 같은 문자가 연속적으로 반복되는 경우에 그 반복 횟수를 표시해 문자열을 압축하여 표시하시오.\n",
        "```\n",
        "입력 예시: aaabbcccccca\n",
        "출력 예시: a3b2c6a1\n",
        "```\n",
        "\n"
      ]
    },
    {
      "cell_type": "code",
      "metadata": {
        "id": "HC6iFE5_FCXi",
        "colab_type": "code",
        "colab": {
          "base_uri": "https://localhost:8080/",
          "height": 36
        },
        "outputId": "8007fd58-9563-411e-836e-70ab29d290ab"
      },
      "source": [
        "# [Q14] Code-1\n",
        "def zip(sentence):\n",
        "    count = 0  # 문자 카운팅\n",
        "    next_sentence = \"\" # sentence 감지\n",
        "    result = \"\"  # 결과 저장\n",
        "    for i in sentence:\n",
        "        if next_sentence != i:    # 문자가 달라지는 곳을 감지 ===> a다음 b의 차례가 오면 if문 실행\n",
        "            next_sentence = i     # 문자열 첫 문자는 a\n",
        "            if count:             # 이때 count = 0 이므로 False\n",
        "                result += str(count)\n",
        "            result += i           # 공백 result에 a가 추가\n",
        "            count = 1             # count = 1이 매겨짐\n",
        "        else:                     # 다음 문자도 a이기 때문에 else문으로 넘어가고 count = 2\n",
        "          count += 1              # 이과 같은 방법으로 반복문 실행\n",
        "    if count:\n",
        "        result += str(count)      # b의 차례가 시작되면 a의 count가 3이므로 result에 입력 => a3\n",
        "    return result\n",
        "\n",
        "sentence = 'aaabbcccccca'\n",
        "print(zip(sentence))"
      ],
      "execution_count": null,
      "outputs": [
        {
          "output_type": "stream",
          "text": [
            "a3b2c6a1\n"
          ],
          "name": "stdout"
        }
      ]
    },
    {
      "cell_type": "code",
      "metadata": {
        "colab_type": "code",
        "id": "Hs88sVjjL2Qw",
        "colab": {
          "base_uri": "https://localhost:8080/",
          "height": 36
        },
        "outputId": "6c97f4e6-ca77-4a34-da9e-286155da71ed"
      },
      "source": [
        "# [Q14] Code-2\n",
        "sentence = \"aaabbcccccca\" # 초기값 설정\n",
        "count = 1                 # 문자 카운팅\n",
        "count_sentence =[]        # 결과 저장\n",
        "\n",
        "for i in range(len(sentence)-1):\n",
        "    if sentence[i] == sentence[i+1]: # 현재 문자와 다음 문자와 같으면 count에 1 더하기\n",
        "        count += 1\n",
        "    elif sentence[i] != sentence[i+1]:# 현재 문자와 다음 문자가 다르면 count_sentence에 결과 저장\n",
        "        count_sentence.append((count, sentence[i]))\n",
        "        count = 1\n",
        "    if i == len(sentence) - 2: # 초기값의 같은 문자열 길이가 1개 일 때 결과 저장\n",
        "        count_sentence.append((count, sentence[i + 1]))\n",
        "\n",
        "result = \"\" # 결과 출력 변수 result\n",
        "\n",
        "for i in range(len(count_sentence)):\n",
        "    result = result + str(count_sentence[i][1]) + str(count_sentence[i][0])\n",
        "print(result)"
      ],
      "execution_count": null,
      "outputs": [
        {
          "output_type": "stream",
          "text": [
            "a3b2c6a1\n"
          ],
          "name": "stdout"
        }
      ]
    },
    {
      "cell_type": "code",
      "metadata": {
        "colab_type": "code",
        "id": "XF4F0DW0L2Q1",
        "colab": {
          "base_uri": "https://localhost:8080/",
          "height": 36
        },
        "outputId": "6b102df1-1af4-4eab-bd30-58f2bb34aa62"
      },
      "source": [
        "# [Q14] Code-3\n",
        "sentence = \"aaabbcccccca\" # 초기값 설정\n",
        "result = sentence[0]      # 결과 저장\n",
        "count = 0                 # 문자 카운팅\n",
        "\n",
        "for i in sentence:\n",
        "    if i == result[-1]:           # else에서 result 변수에 값 추가 -> 마지막 문자와 비교\n",
        "        count += 1\n",
        "    else:\n",
        "        result += str(count) + i  # 마지막 문자와 i가 다를 경우 카운팅 값을 문자열 형태로 입력\n",
        "        count = 1\n",
        "result += str(count)              # result 변수에 카운팅 값을 문자열 형태로 추가\n",
        "\n",
        "print(result)"
      ],
      "execution_count": null,
      "outputs": [
        {
          "output_type": "stream",
          "text": [
            "a3b2c6a1\n"
          ],
          "name": "stdout"
        }
      ]
    },
    {
      "cell_type": "code",
      "metadata": {
        "id": "UZNNaKeUoJ7y",
        "colab_type": "code",
        "colab": {
          "base_uri": "https://localhost:8080/",
          "height": 36
        },
        "outputId": "5baa0704-5bf7-41dc-9a43-1481279b9a6a"
      },
      "source": [
        "# [Q14] Code-4\n",
        "def sentence_string(s):\n",
        "    sentence = \"\"   # 문자열 감지\n",
        "    count = 0       # 문자 카운팅\n",
        "    result = \"\"     # 결과 저장\n",
        "    for st in s:\n",
        "        if st!=sentence:  # 다른 문자열 => count 초기화\n",
        "            sentence = st\n",
        "            if count: result += str(count)\n",
        "            result += st\n",
        "            count = 1\n",
        "        else:             # 동일한 문자열 => count 값 증가\n",
        "            count +=1\n",
        "    if count: result += str(count)\n",
        "    return result\n",
        "\n",
        "print (sentence_string(\"aaabbcccccca\"))  "
      ],
      "execution_count": null,
      "outputs": [
        {
          "output_type": "stream",
          "text": [
            "a3b2c6a1\n"
          ],
          "name": "stdout"
        }
      ]
    },
    {
      "cell_type": "markdown",
      "metadata": {
        "colab_type": "text",
        "id": "tCF274jtL3Vk"
      },
      "source": [
        "## Q15. Duplicate Numbers\n",
        "> 0 ~ 9의 문자로 된 숫자를 입력받았을 때, 이 입력값이 0 ~ 9의 모든 숫자를 각각 한 번씩만 사용한 것인지 확인하는 함수를 작성하시오.\n",
        "```\n",
        "입력 예시: 0123456789 01234 01234567890 6789012345 012322456789\n",
        "출력 예시: true false false true false\n",
        "```\n"
      ]
    },
    {
      "cell_type": "code",
      "metadata": {
        "colab_type": "code",
        "id": "3uQFw6jGL3Vm",
        "colab": {
          "base_uri": "https://localhost:8080/",
          "height": 111
        },
        "outputId": "3f183b87-d28b-4ad9-b6c6-94c2463524fa"
      },
      "source": [
        "# [Q15] Code-1\n",
        "def Num_inputs(s):\n",
        "    list_s=s.split()\n",
        "    for i in list_s :\n",
        "        if list(\"\".join(i)).count(\"0\") == 1:\n",
        "            if eval(\"+\".join(i))==45:\n",
        "                print(\"True\")\n",
        "            else :\n",
        "                print(\"False\")\n",
        "        else :\n",
        "            print(\"False\")\n",
        "\n",
        "Num_inputs(\"0123456789 01234 01234567890 6789012345 012322456789\")\n"
      ],
      "execution_count": null,
      "outputs": [
        {
          "output_type": "stream",
          "text": [
            "True\n",
            "False\n",
            "False\n",
            "True\n",
            "False\n"
          ],
          "name": "stdout"
        }
      ]
    },
    {
      "cell_type": "code",
      "metadata": {
        "colab_type": "code",
        "id": "Bdt_UGgZL3Vr",
        "colab": {
          "base_uri": "https://localhost:8080/",
          "height": 111
        },
        "outputId": "50085433-ab57-47f0-a695-d370f425431b"
      },
      "source": [
        "# [Q15] Code-2\n",
        "def check_number(num):\n",
        "    for i in range(10):\n",
        "        if num.count(str(i)) != 1:\n",
        "            print(\"False\")\n",
        "            return\n",
        "\n",
        "    print(\"True\")\n",
        "\n",
        "check_number('0123456789')\n",
        "check_number('01234')\n",
        "check_number('01234567890')\n",
        "check_number('6789012345')\n",
        "check_number('012322456789')\n"
      ],
      "execution_count": null,
      "outputs": [
        {
          "output_type": "stream",
          "text": [
            "True\n",
            "False\n",
            "False\n",
            "True\n",
            "False\n"
          ],
          "name": "stdout"
        }
      ]
    },
    {
      "cell_type": "code",
      "metadata": {
        "id": "8TdXcAQuteDq",
        "colab_type": "code",
        "colab": {
          "base_uri": "https://localhost:8080/",
          "height": 111
        },
        "outputId": "5ef8b5f5-3c02-4954-99f7-603b48647079"
      },
      "source": [
        "# [Q15] Code-3\n",
        "def chk_Num(s):\n",
        "    result=[]\n",
        "    for number in s:\n",
        "        if number not in result:\n",
        "            result.append(number)\n",
        "        else:\n",
        "            return False\n",
        "    return len(result) == 10\n",
        "\n",
        "print(chk_Num(\"0123456789\"))    \n",
        "print(chk_Num(\"01234\"))           \n",
        "print(chk_Num(\"01234567890\"))     \n",
        "print(chk_Num(\"6789012345\"))      \n",
        "print(chk_Num(\"012322456789\"))\n"
      ],
      "execution_count": null,
      "outputs": [
        {
          "output_type": "stream",
          "text": [
            "True\n",
            "False\n",
            "False\n",
            "True\n",
            "False\n"
          ],
          "name": "stdout"
        }
      ]
    },
    {
      "cell_type": "markdown",
      "metadata": {
        "colab_type": "text",
        "id": "QdPWKi1gL4UE"
      },
      "source": [
        "## Q16. 모스 부호 해독\n",
        "> 문자열 형식으로 입력받은 모스 부호(dot:. dash:-)를 해독하여 영어 문장으로 출력하는 프로그램을 작성하시오.\n",
        "\n",
        "- 글자와 글자 사이는 공백 1개, 단어와 단어 사이는 공백 2개로 구분한다.\n",
        "- 예를 들어 다음 모스 부호는 \"HE SLEEPS EARLY\"로 해석해야 한다.\n",
        "```\n",
        ".... .  ... .-.. . . .--. ...  . .- .-. .-.. -.--\n",
        "```\n",
        "> 모스부호 규칙 표\n",
        "```\n",
        "문자 부호\t문자   부호\n",
        "A\t .-\t    N\t    -.\n",
        "B\t -...\tO\t    ---\n",
        "C\t -.-.\tP\t    .--.\n",
        "D\t -..\tQ\t    --.-\n",
        "E\t .\t    R\t    .-.\n",
        "F\t ..-.\tS\t    ...\n",
        "G\t --.\tT\t    -\n",
        "H\t ....\tU\t    ..-\n",
        "I\t ..\t    V\t    ...-\n",
        "J\t .---\tW\t    .--\n",
        "K\t -.-\tX\t    -..-\n",
        "L\t .-..\tY\t    -.--\n",
        "M\t --\t    Z\t    --..\n",
        "```"
      ]
    },
    {
      "cell_type": "code",
      "metadata": {
        "colab_type": "code",
        "id": "ciZbyRFrL4UF",
        "colab": {
          "base_uri": "https://localhost:8080/",
          "height": 36
        },
        "outputId": "a7524311-a324-444f-bb2b-9737711b1da8"
      },
      "source": [
        "# [Q16] Code-1\n",
        "dic = {\n",
        "    '.-':'A','-...':'B','-.-.':'C','-..':'D','.':'E','..-.':'F',\n",
        "    '--.':'G','....':'H','..':'I','.---':'J','-.-':'K','.-..':'L',\n",
        "    '--':'M','-.':'N','---':'O','.--.':'P','--.-':'Q','.-.':'R',\n",
        "    '...':'S','-':'T','..-':'U','...-':'V','.--':'W','-..-':'X',\n",
        "    '-.--':'Y','--..':'Z'\n",
        "}\n",
        "\n",
        "def morse(code):\n",
        "    result = []\n",
        "    for word in code.split(\"  \"):\n",
        "        for char in word.split(\" \"):\n",
        "            result.append(dic[char])\n",
        "        result.append(\" \")\n",
        "    return \"\".join(result)\n",
        "\n",
        "\n",
        "print(morse('.... .  ... .-.. . . .--. ...  . .- .-. .-.. -.--'))\n"
      ],
      "execution_count": null,
      "outputs": [
        {
          "output_type": "stream",
          "text": [
            "HE SLEEPS EARLY \n"
          ],
          "name": "stdout"
        }
      ]
    },
    {
      "cell_type": "code",
      "metadata": {
        "id": "YdZEAmk9yZRq",
        "colab_type": "code",
        "colab": {
          "base_uri": "https://localhost:8080/",
          "height": 36
        },
        "outputId": "36074014-a065-41a1-ca3f-2d617d214cd5"
      },
      "source": [
        "# [Q16] Code-2\n",
        "dic = {'':' ','.-':'A','-...':'B','-.-.':'C','-..':'D','.':'E','..-.':'F','--.':'G','....':'H','..':'I','.---':'J','-.-':'K','.-..':'L','--':'M','-.':'N','---':'O','.--.':'P','--.-':'Q','.-.':'R','...':'S','-':'T','..-':'U','...-':'V','.--':'W','-..-':'X','-.--':'Y','--..':'Z'}\n",
        "morse=\".... .  ... .-.. . . .--. ...  . .- .-. .-.. -.--\"\n",
        "word=morse.split(\" \")\n",
        "for i in word:\n",
        "    print(dic[i],end=\"\")"
      ],
      "execution_count": null,
      "outputs": [
        {
          "output_type": "stream",
          "text": [
            "HE SLEEPS EARLY"
          ],
          "name": "stdout"
        }
      ]
    },
    {
      "cell_type": "markdown",
      "metadata": {
        "id": "om4sRiRhMosn",
        "colab_type": "text"
      },
      "source": [
        "\n",
        "\n",
        "---\n",
        "\n",
        "# 다음 정규식 문제는 기말고사 후에 도전해 보세요."
      ]
    },
    {
      "cell_type": "markdown",
      "metadata": {
        "id": "qNIS0yN6xD4j",
        "colab_type": "text"
      },
      "source": [
        "네엡"
      ]
    },
    {
      "cell_type": "markdown",
      "metadata": {
        "id": "nazB2KXYOm5R",
        "colab_type": "text"
      },
      "source": [
        "## Regular Expression\n",
        "- import re"
      ]
    },
    {
      "cell_type": "markdown",
      "metadata": {
        "colab_type": "text",
        "id": "AN8kEO30L5NE"
      },
      "source": [
        "## Q17. 기초 메타 문자\n",
        "> 다음 중 정규식 a[.]{3,}b과 매치되는 문자열은 무엇일까?\n",
        "\n",
        "\n",
        "```\n",
        "acccb\n",
        "a....b\n",
        "aaab\n",
        "a.cccb\n",
        "```\n"
      ]
    },
    {
      "cell_type": "code",
      "metadata": {
        "colab_type": "code",
        "id": "uKQWoUqhL5NG",
        "colab": {}
      },
      "source": [
        "# [Q17] Code\n",
        "\n"
      ],
      "execution_count": null,
      "outputs": []
    },
    {
      "cell_type": "markdown",
      "metadata": {
        "colab_type": "text",
        "id": "0dEWfwATL6DE"
      },
      "source": [
        "## Q18. 문자열 검색\n",
        "> 다음 코드의 결괏값은 무엇일까?\n",
        "\n",
        "```\n",
        ">>> import re\n",
        ">>> p = re.compile(\"[a-z]+\")\n",
        ">>> m = p.search(\"5 python\")\n",
        ">>> m.start() + m.end()\n",
        "```\n"
      ]
    },
    {
      "cell_type": "code",
      "metadata": {
        "colab_type": "code",
        "id": "Ip11Dmo7L6DH",
        "colab": {}
      },
      "source": [
        "# [Q18] Code\n"
      ],
      "execution_count": null,
      "outputs": []
    },
    {
      "cell_type": "markdown",
      "metadata": {
        "colab_type": "text",
        "id": "8QizaqrUL62E"
      },
      "source": [
        "## Q19. 그루핑\n",
        "> 다음과 같은 문자열에서 휴대폰 번호 뒷자리인 숫자 4개를 ####로 바꾸는 프로그램을 정규식을 사용하여 작성하시오.\n",
        "\n",
        "```\n",
        "park 010-9999-9988\n",
        "kim 010-9909-7789\n",
        "lee 010-8789-7768\n",
        "```\n"
      ]
    },
    {
      "cell_type": "code",
      "metadata": {
        "colab_type": "code",
        "id": "bfRvchIlL62H",
        "colab": {}
      },
      "source": [
        "# [Q19] Code\n"
      ],
      "execution_count": null,
      "outputs": []
    },
    {
      "cell_type": "markdown",
      "metadata": {
        "colab_type": "text",
        "id": "0DumiUQoL7jk"
      },
      "source": [
        "## Q20. 전방 탐색\n",
        "> 다음은 이메일 주소를 나타내는 정규식이다. 이 정규식은 park@naver.com, kim@daum.net, lee@myhome.co.kr 등과 매치된다. 긍정형 전방 탐색 기법을 사용하여 .com, .net이 아닌 이메일 주소는 제외시키는 정규식을 작성하시오.\n",
        "\n",
        "```\n",
        ".*[@].*[.].*$\n",
        "```\n"
      ]
    },
    {
      "cell_type": "code",
      "metadata": {
        "colab_type": "code",
        "id": "9S9UUOkFL7jl",
        "colab": {}
      },
      "source": [
        "# [Q20] Code\n"
      ],
      "execution_count": null,
      "outputs": []
    },
    {
      "cell_type": "markdown",
      "metadata": {
        "id": "2ljBDShkbqZO",
        "colab_type": "text"
      },
      "source": [
        "## 코딩 연습 결과를 github에 올리기\n",
        "> 완성된 ipython 노트북 파일을 각자의 github에 올리시오.\n",
        "\n",
        "- github 계정 만들기 (계정이 없는 학생)\n",
        "    1. github에 sign up (Google gmail 계정을 이용해서 만드시오.)\n",
        "- github에 노트 올리기\n",
        "    2. github에 각자의 id로 repo를 만드시오. (한번 만들면 계속 재사용)\n",
        "    3. github repo에 연습결과 노트를 올리시오.\n",
        "        - 제출노트: ch8_exercises_id.ipynb\n"
      ]
    }
  ]
}