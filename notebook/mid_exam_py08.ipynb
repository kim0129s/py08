{
  "nbformat": 4,
  "nbformat_minor": 0,
  "metadata": {
    "colab": {
      "name": "mid_exam_py08.ipynb",
      "provenance": [],
      "authorship_tag": "ABX9TyOVqVO1jeH1r3zD2G/9yML0",
      "include_colab_link": true
    },
    "kernelspec": {
      "name": "python3",
      "display_name": "Python 3"
    }
  },
  "cells": [
    {
      "cell_type": "markdown",
      "metadata": {
        "id": "view-in-github",
        "colab_type": "text"
      },
      "source": [
        "<a href=\"https://colab.research.google.com/github/kim0129s/py08/blob/master/notebook/mid_exam_py08.ipynb\" target=\"_parent\"><img src=\"https://colab.research.google.com/assets/colab-badge.svg\" alt=\"Open In Colab\"/></a>"
      ]
    },
    {
      "cell_type": "markdown",
      "metadata": {
        "id": "htWyBA1VLmBI",
        "colab_type": "text"
      },
      "source": [
        "###문제 1\n",
        "- 다음 식의 연산 결과는?"
      ]
    },
    {
      "cell_type": "code",
      "metadata": {
        "id": "2OO59YbJKO9d",
        "colab_type": "code",
        "colab": {}
      },
      "source": [
        "a = 5  #a에 5라는 값 지정\n",
        "b = 3  #b에 3이라는 값 지정\n",
        "a**b   #a^b = 5^3"
      ],
      "execution_count": 0,
      "outputs": []
    },
    {
      "cell_type": "markdown",
      "metadata": {
        "id": "IFn6yM2wKfGD",
        "colab_type": "text"
      },
      "source": [
        "- 125 \n",
        "      5^3 = 5x5x5=125"
      ]
    },
    {
      "cell_type": "markdown",
      "metadata": {
        "id": "iZGWQcEULtbI",
        "colab_type": "text"
      },
      "source": [
        "###문제 2\n",
        "- 다음 문자열 a에 대하여 슬라이싱을 한 결과는?"
      ]
    },
    {
      "cell_type": "code",
      "metadata": {
        "id": "4mB475mEK0I0",
        "colab_type": "code",
        "colab": {
          "base_uri": "https://localhost:8080/",
          "height": 35
        },
        "outputId": "de7169f2-e695-4e12-9275-a5de0178cc29"
      },
      "source": [
        "a = \"Life is too short, You need Python!\"  # a 에 \"Life is too short, You need Python!\" 라는 문자열 지정\n",
        "a[-16:-8]                                  # a의 뒤에서 16번째 문자('Y')부터 뒤에서 8번째 문자(d' 'P) 전까지 출력\n",
        "#'You need'"
      ],
      "execution_count": 1,
      "outputs": [
        {
          "output_type": "execute_result",
          "data": {
            "text/plain": [
              "'You need'"
            ]
          },
          "metadata": {
            "tags": []
          },
          "execution_count": 1
        }
      ]
    },
    {
      "cell_type": "markdown",
      "metadata": {
        "id": "-ShikCSlK_BS",
        "colab_type": "text"
      },
      "source": [
        "- 1 'You need' (o)\n",
        "\n",
        "    a[-16:-8]\n",
        "- 2 'you need Python'\n",
        "\n",
        "    a[19:-1]\n",
        "- 3 'need Python'\n",
        "\n",
        "    a[23:-1]\n",
        "- 4 'short, You'\n",
        "\n",
        "    a[12:-13]"
      ]
    },
    {
      "cell_type": "markdown",
      "metadata": {
        "id": "Ag_CHMgrL08E",
        "colab_type": "text"
      },
      "source": [
        "###문제 3\n",
        "- 다음 list a 의 인덱싱 결과는?"
      ]
    },
    {
      "cell_type": "code",
      "metadata": {
        "id": "cbwbFvDrLZaY",
        "colab_type": "code",
        "colab": {
          "base_uri": "https://localhost:8080/",
          "height": 35
        },
        "outputId": "830e543b-c5b3-430e-f88b-790c86e6664a"
      },
      "source": [
        "a = [1,2,(3,4),['a','b',['my','Life','Good']]] #리스트 a 생성\n",
        "a[3][-1][0]                                     \n",
        "                                                #a리스트 안에있는 4번째 리스트(['a','b',['my','Life','Good']])\n",
        "                                                #내의 뒤에서 1번째에 있는 리스트(['my','Life','Good']) \n",
        "                                                #내의 1번째에 있는 'my'                                              "
      ],
      "execution_count": 2,
      "outputs": [
        {
          "output_type": "execute_result",
          "data": {
            "text/plain": [
              "'my'"
            ]
          },
          "metadata": {
            "tags": []
          },
          "execution_count": 2
        }
      ]
    },
    {
      "cell_type": "markdown",
      "metadata": {
        "id": "ih1mBxR3Ldle",
        "colab_type": "text"
      },
      "source": [
        "- 1 'a'\n",
        "\n",
        "    a[3][0]\n",
        "- 2 'My'  (o)\n",
        "\n",
        "    a[3][-1][0]\n",
        "- 3 'Life'\n",
        "\n",
        "    a[3][2][1]\n",
        "- 4 'Good'\n",
        "\n",
        "    a[3][2][2]"
      ]
    },
    {
      "cell_type": "markdown",
      "metadata": {
        "id": "R0yxAA0sL9aJ",
        "colab_type": "text"
      },
      "source": [
        "###문제 4\n",
        "- 다음 tuple t1의 슬라이싱 결과는?"
      ]
    },
    {
      "cell_type": "code",
      "metadata": {
        "id": "LGFwEZpALc1m",
        "colab_type": "code",
        "colab": {
          "base_uri": "https://localhost:8080/",
          "height": 35
        },
        "outputId": "6db479cd-a553-427e-d0fd-509c0a793787"
      },
      "source": [
        "t1 = (0,1,\"s\",\"t\",\"u\")           #t1 에 튜플 생성\n",
        "t1[2:-2]                         #튜플 t1에서 3번째 자리(\"s\")부터 뒤에서 2번째 자리(\"t\")전 까지 슬라이싱\n",
        "                                 #튜플은 값이 하나만 출력될수 없기 떄문에 ('s',)가 출력된다."
      ],
      "execution_count": 3,
      "outputs": [
        {
          "output_type": "execute_result",
          "data": {
            "text/plain": [
              "('s',)"
            ]
          },
          "metadata": {
            "tags": []
          },
          "execution_count": 3
        }
      ]
    },
    {
      "cell_type": "markdown",
      "metadata": {
        "id": "yHL1EpZbORm5",
        "colab_type": "text"
      },
      "source": [
        "- 1 ('s','t')\n",
        "\n",
        "    t1[2:-1]    type:tuple\n",
        "- 2 ('s','t',)\n",
        "\n",
        "    출력불가\n",
        "- 3 ('s')\n",
        "\n",
        "    t1[2]       type:str\n",
        "- 4 ('s',)    (o)\n",
        "\n",
        "    t1[2:-2]    type:tuple"
      ]
    },
    {
      "cell_type": "markdown",
      "metadata": {
        "id": "_uxH3l_6OY5_",
        "colab_type": "text"
      },
      "source": [
        "###문제 5\n",
        "- 다음 bool 값 출력 중 정확한 것은?"
      ]
    },
    {
      "cell_type": "code",
      "metadata": {
        "id": "vxXAxJEpMHUk",
        "colab_type": "code",
        "colab": {
          "base_uri": "https://localhost:8080/",
          "height": 35
        },
        "outputId": "0d1537bf-005c-482f-9106-e6b527acae1b"
      },
      "source": [
        "bool([0,1,2]), bool([0]),bool((0)),bool((0,))\n",
        "#bool([0,1,2])는 [0,1,2]이라는 값이 리스트로 있기때문에 True\n",
        "#bool([0])는 [0]이라는 값이 리스트로 있기 때문에 True\n",
        "#bool((0))는 값이 0인 int 이기 때문에 (0 = False) False     (1=True)\n",
        "#bool(0,)는 (0,)이라는 튜플이기때문에 True"
      ],
      "execution_count": 4,
      "outputs": [
        {
          "output_type": "execute_result",
          "data": {
            "text/plain": [
              "(True, True, False, True)"
            ]
          },
          "metadata": {
            "tags": []
          },
          "execution_count": 4
        }
      ]
    },
    {
      "cell_type": "markdown",
      "metadata": {
        "id": "d3RHQwoZOy90",
        "colab_type": "text"
      },
      "source": [
        "- 1 (True, True, True, True)\n",
        "- 2 (False, False, False, False)\n",
        "- 3 (True, True, False, True)  (o)\n",
        "- 4 (True, False, False, True)"
      ]
    },
    {
      "cell_type": "markdown",
      "metadata": {
        "id": "by05sB_pO07_",
        "colab_type": "text"
      },
      "source": [
        "### 문제 6\n",
        "- 다음 조건문을 1줄코드로 변경하여라.\n"
      ]
    },
    {
      "cell_type": "code",
      "metadata": {
        "id": "LBqa60PvOzXq",
        "colab_type": "code",
        "colab": {
          "base_uri": "https://localhost:8080/",
          "height": 35
        },
        "outputId": "e8dd553a-77cd-4ca2-cf9c-0ad33b076ae5"
      },
      "source": [
        "score = 80                    #score에 값80 지정\n",
        "if score >= 60:               #score의 값이 60 보다 크거나 같으면 message에 문자열 \"success\"을 대입\n",
        "  message = \"success\"          \n",
        "else:                         #그렇지 않을경우 message에 문자열 \"failure\"을 대입\n",
        "  message = \"failure\"\n",
        "#아래의 답중에 위의 연산과 같은 경우는 2번\n",
        "print(message)"
      ],
      "execution_count": 5,
      "outputs": [
        {
          "output_type": "stream",
          "text": [
            "success\n"
          ],
          "name": "stdout"
        }
      ]
    },
    {
      "cell_type": "markdown",
      "metadata": {
        "id": "JYESI0kLPUsM",
        "colab_type": "text"
      },
      "source": [
        "- 1 message = \"failure\" if score>=60 else \"success\"\n",
        "\n",
        "    failure\n",
        "- 2 message = \"success\" if score>=60 else \"failure\" (o)\n",
        "\n",
        "    success\n",
        "- 3 message = \"failure\" if score>=60 then \"success\"\n",
        "\n",
        "    SyntaxError: invalid syntax\n",
        "- 4 message = \"success\" if score>=60 then \"failure\"\n",
        "\n",
        "    SyntaxError: invalid syntax"
      ]
    },
    {
      "cell_type": "markdown",
      "metadata": {
        "id": "EIL4F1izPadp",
        "colab_type": "text"
      },
      "source": [
        "### 문제 7\n",
        "- 다음 코드의 실행 결과는?"
      ]
    },
    {
      "cell_type": "code",
      "metadata": {
        "id": "P2xjCvObPUBM",
        "colab_type": "code",
        "colab": {
          "base_uri": "https://localhost:8080/",
          "height": 35
        },
        "outputId": "09f78e1a-9203-4413-f1ea-dec1c92f5848"
      },
      "source": [
        "games = [\"A\",\"B\",\"C\"]             #game에 [\"A\",\"B\",\"C\"]라는 리스트 생성\n",
        "\n",
        "for cnt in range(len(games)):     #for 반복구문 반복할때마다 cnt에 0부터 3-1 의 값을 한번씩 집어넣음 \n",
        "  print(cnt, games[cnt], end=',')  #현재 cnt와 games리스트의 cnt번쨰의 문자 출력후 ,를 찍고 가로로 출력"
      ],
      "execution_count": 6,
      "outputs": [
        {
          "output_type": "stream",
          "text": [
            "0 A,1 B,2 C,"
          ],
          "name": "stdout"
        }
      ]
    },
    {
      "cell_type": "markdown",
      "metadata": {
        "id": "sOt4nLgVPhYv",
        "colab_type": "text"
      },
      "source": [
        "- 1 0 A,1 B,2 C, (o)\n",
        "- 2 0 A,1 B,2 C\n",
        "- 3 1 A,2 B,3 C,\n",
        "- 4 1 A,2 B,3 C"
      ]
    },
    {
      "cell_type": "markdown",
      "metadata": {
        "id": "sPP8dBLxP3Xz",
        "colab_type": "text"
      },
      "source": [
        "###문제 8\n",
        "- 다음의 결과가 출력되지 않는것은? 'I ate 10 apples, so I was sick for three days'"
      ]
    },
    {
      "cell_type": "code",
      "metadata": {
        "id": "eH0gIQUZPggx",
        "colab_type": "code",
        "colab": {}
      },
      "source": [
        "# code start\n",
        "number = 10\n",
        "day = \"three\"\n",
        "\n",
        "\"I ate {0} apples. so I was sick for {1} days.\".format(10,day)         #format함수를 이용하여 출력값: 10, three(day에 저장된 문자열)\n",
        "f\"I ate {number} apples. so I was sick for {day} days.\"                #f문자열을 이용한 포매팅 출력값: 10(number에저장됨), three(day에 저장됨)\n",
        "f\"I ate {number} apples. so I was sick for {'three'} days.\"            #f문자열을 이용한 포매팅 출력값: 10(number에저장됨), three\n",
        "\"I ate {0} apples. so I was sick for {1} ays.\".format(number=10, day)  #SyntaxError: positional argument follows keyword argument (number=10은형식이 아님)"
      ],
      "execution_count": 0,
      "outputs": []
    },
    {
      "cell_type": "markdown",
      "metadata": {
        "id": "ymZtsAHwQL0c",
        "colab_type": "text"
      },
      "source": [
        "- 1 \"I ate {0} apples. so I was sick for {1} days.\".format(10,day)\n",
        "\n",
        "    'I ate 10 apples. so I was sick for three days.'\n",
        "- 2 f\"I ate {number} apples. so I was sick for {day} days.\"\n",
        "\n",
        "    'I ate 10 apples. so I was sick for three days.'\n",
        "- 3 f\"I ate {number} apples. so I was sick for {'three'} days.\"\n",
        "\n",
        "    'I ate 10 apples. so I was sick for three days.'\n",
        "- 4 \"I ate {0} apples. so I was sick for {1} ays.\".format(number=10, day) (o)\n",
        "\n",
        "    SyntaxError: positional argument follows keyword argument"
      ]
    },
    {
      "cell_type": "markdown",
      "metadata": {
        "id": "dwlrTsaxQP0E",
        "colab_type": "text"
      },
      "source": [
        "###문제 9\n",
        "- 리스트 내포를 사용해 1부터 1000이하의 자연수 중 5의 배수의 합을 구하는 한줄 코드를 작성하시오."
      ]
    },
    {
      "cell_type": "code",
      "metadata": {
        "id": "SebONLF-QOP9",
        "colab_type": "code",
        "colab": {}
      },
      "source": [
        "5 + 10 + 15 + 20 + 25 + .....\n",
        "... + 955 + 960 + 965 + 970 +\n",
        "975 + ... + 995 + 1000 = ?"
      ],
      "execution_count": 0,
      "outputs": []
    },
    {
      "cell_type": "code",
      "metadata": {
        "id": "hQDBvehuQYZ0",
        "colab_type": "code",
        "colab": {
          "base_uri": "https://localhost:8080/",
          "height": 35
        },
        "outputId": "df5d3780-7721-4331-9918-ac45b16cda88"
      },
      "source": [
        "sum([num for num in range(1,1001) if num % 5==0]) #1에서 1001전까지의 숫자를 한번씩num에 집어넣고 만약 집어넣은 값이 5로 나누었을때\n",
        "                                                  #나머지가 0으로 떨어질 경우 sum함수를 이용하여 값을 중복하여 더함"
      ],
      "execution_count": 7,
      "outputs": [
        {
          "output_type": "execute_result",
          "data": {
            "text/plain": [
              "100500"
            ]
          },
          "metadata": {
            "tags": []
          },
          "execution_count": 7
        }
      ]
    },
    {
      "cell_type": "markdown",
      "metadata": {
        "id": "1hCz75bVQfxq",
        "colab_type": "text"
      },
      "source": [
        "- 1 sum([num for num in range(1,1000) if num % 5==0])\n",
        "\n",
        "    range함수는 (a,b)일떄 a숫자 부터 b숫자의 전까지 수를 반환 하기때문에\n",
        "    해당연산의 경우 숫자가 **999**까지 반환되기 떄문에 1000이 누락되어       \n",
        "    더해지지 않아 99500라는 값이 나오게된다.\n",
        "- 2 len([num for num in range(1,1000) if num % 5==0])\n",
        "\n",
        "    len 함수의 경우 num안에들은 갯수를 세어주는 함수이기 떄문에 1에서  \n",
        "    999까지의 숫자중 5의 배수의 갯수를 세주어서 **199**라는 값이 출력된다.\n",
        "- 3 sum([num for num in range(1,1001) if num % 5==0]) (o)\n",
        "\n",
        "100500\n",
        "- 4 len([num for num in range(1,1001) if num % 5==0])\n",
        "\n",
        "    1에서 1000까지의 숫자중 5의 배수의 갯수를 세기때문에 **200**이라는 값이 \n",
        "    출력된다."
      ]
    },
    {
      "cell_type": "markdown",
      "metadata": {
        "id": "jEAnfndHQpuB",
        "colab_type": "text"
      },
      "source": [
        "###문제 10\n",
        "- 4개의 과목의 평균 성적을 구하시오. [a], [b]에 적합한 코드는?"
      ]
    },
    {
      "cell_type": "code",
      "metadata": {
        "id": "WG-QBCJiQaZO",
        "colab_type": "code",
        "colab": {}
      },
      "source": [
        "#문제\n",
        "subjects = ['python','english','math','science']\n",
        "scores = [88, 77, 66, 95]\n",
        "total = 0\n",
        "\n",
        "for subject, score in [a].______(subjects, scores):\n",
        "  total += score\n",
        "  print(subject, score)\n",
        "\n",
        "print(\"평균 점수 = (0)\".format([b]._______))  "
      ],
      "execution_count": 0,
      "outputs": []
    },
    {
      "cell_type": "code",
      "metadata": {
        "id": "0QutUfHDQyPm",
        "colab_type": "code",
        "colab": {
          "base_uri": "https://localhost:8080/",
          "height": 107
        },
        "outputId": "c7bbb8a1-90da-4f8a-8e36-1a2ee68e6bcc"
      },
      "source": [
        "subjects = ['python', 'english', 'math', 'science']\n",
        "scores = [88, 77, 66, 95]\n",
        "total = 0\n",
        "\n",
        "for subject, score in zip(subjects,scores): # zip : 동일한 개수로 이루어진 자료형을 묶어 주는 역할\n",
        "  total += score\n",
        "  print(subject, score)\n",
        "\n",
        "print(\"평균 점수 = {0}\".format(total/len(subjects))) \n",
        "\n",
        "# [a] : zip\n",
        "# [b] : total/len(subjects)"
      ],
      "execution_count": 8,
      "outputs": [
        {
          "output_type": "stream",
          "text": [
            "python 88\n",
            "english 77\n",
            "math 66\n",
            "science 95\n",
            "평균 점수 = 81.5\n"
          ],
          "name": "stdout"
        }
      ]
    }
  ]
}